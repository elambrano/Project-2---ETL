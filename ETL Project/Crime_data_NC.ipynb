{
 "cells": [
  {
   "cell_type": "code",
   "execution_count": 1,
   "metadata": {},
   "outputs": [],
   "source": [
    "import pandas as pd\n",
    "import matplotlib.pyplot as plt\n",
    "%matplotlib inline\n",
    "import seaborn as sns\n",
    "import sqlalchemy"
   ]
  },
  {
   "cell_type": "code",
   "execution_count": 2,
   "metadata": {},
   "outputs": [],
   "source": [
    "durham = pd.read_excel('city-of-durham-police-crime-reports_4.xlsx')"
   ]
  },
  {
   "cell_type": "code",
   "execution_count": 3,
   "metadata": {},
   "outputs": [],
   "source": [
    "raleigh = pd.read_csv('RaleighPoliceIncidents.csv')"
   ]
  },
  {
   "cell_type": "code",
   "execution_count": 4,
   "metadata": {},
   "outputs": [],
   "source": [
    "cary = pd.read_csv('Cary.txt', sep=';')"
   ]
  },
  {
   "cell_type": "markdown",
   "metadata": {},
   "source": [
    "## Overview of the tables"
   ]
  },
  {
   "cell_type": "code",
   "execution_count": 5,
   "metadata": {},
   "outputs": [
    {
     "data": {
      "text/html": [
       "<div>\n",
       "<style scoped>\n",
       "    .dataframe tbody tr th:only-of-type {\n",
       "        vertical-align: middle;\n",
       "    }\n",
       "\n",
       "    .dataframe tbody tr th {\n",
       "        vertical-align: top;\n",
       "    }\n",
       "\n",
       "    .dataframe thead th {\n",
       "        text-align: right;\n",
       "    }\n",
       "</style>\n",
       "<table border=\"1\" class=\"dataframe\">\n",
       "  <thead>\n",
       "    <tr style=\"text-align: right;\">\n",
       "      <th></th>\n",
       "      <th>crime_category</th>\n",
       "      <th>crime_type</th>\n",
       "      <th>chrgcnt</th>\n",
       "      <th>ucr</th>\n",
       "      <th>district</th>\n",
       "      <th>beat_number</th>\n",
       "      <th>map_reference</th>\n",
       "      <th>incident_number</th>\n",
       "      <th>time_from</th>\n",
       "      <th>time_to</th>\n",
       "      <th>...</th>\n",
       "      <th>phxstatus</th>\n",
       "      <th>record</th>\n",
       "      <th>offensecategory</th>\n",
       "      <th>violentproperty</th>\n",
       "      <th>timeframe</th>\n",
       "      <th>domestic</th>\n",
       "      <th>location</th>\n",
       "      <th>period</th>\n",
       "      <th>radio</th>\n",
       "      <th>street</th>\n",
       "    </tr>\n",
       "  </thead>\n",
       "  <tbody>\n",
       "    <tr>\n",
       "      <th>0</th>\n",
       "      <td>ALL OTHER</td>\n",
       "      <td>ALL OTHER - BLACKMAIL/ EXTORTION</td>\n",
       "      <td>NaN</td>\n",
       "      <td>2630</td>\n",
       "      <td>D1</td>\n",
       "      <td>114</td>\n",
       "      <td>P026</td>\n",
       "      <td>17000426</td>\n",
       "      <td>0001-01-01 03:40:00+00:00</td>\n",
       "      <td>0001-01-01 04:47:00+00:00</td>\n",
       "      <td>...</td>\n",
       "      <td>NaN</td>\n",
       "      <td>3011</td>\n",
       "      <td>All Other Offenses</td>\n",
       "      <td>All Other</td>\n",
       "      <td>\"Last Year\"</td>\n",
       "      <td>N</td>\n",
       "      <td>35.788671414; -78.79625675</td>\n",
       "      <td>\"Everything;Last Year\"</td>\n",
       "      <td>Everything,Last Year</td>\n",
       "      <td>KING ST</td>\n",
       "    </tr>\n",
       "    <tr>\n",
       "      <th>1</th>\n",
       "      <td>ALL OTHER</td>\n",
       "      <td>ALL OTHER - BLACKMAIL/ EXTORTION</td>\n",
       "      <td>NaN</td>\n",
       "      <td>2630</td>\n",
       "      <td>D3</td>\n",
       "      <td>118</td>\n",
       "      <td>P004</td>\n",
       "      <td>16009674</td>\n",
       "      <td>0001-01-01 11:53:00+00:00</td>\n",
       "      <td>0001-01-01 15:15:00+00:00</td>\n",
       "      <td>...</td>\n",
       "      <td>Active</td>\n",
       "      <td>3019</td>\n",
       "      <td>All Other Offenses</td>\n",
       "      <td>All Other</td>\n",
       "      <td>\"Last Year\"</td>\n",
       "      <td>N</td>\n",
       "      <td>35.741041415; -78.75461019</td>\n",
       "      <td>\"Everything;Last Year\"</td>\n",
       "      <td>Everything,Last Year</td>\n",
       "      <td>RIBBON LN</td>\n",
       "    </tr>\n",
       "  </tbody>\n",
       "</table>\n",
       "<p>2 rows × 31 columns</p>\n",
       "</div>"
      ],
      "text/plain": [
       "  crime_category                        crime_type  chrgcnt   ucr district  \\\n",
       "0      ALL OTHER  ALL OTHER - BLACKMAIL/ EXTORTION      NaN  2630       D1   \n",
       "1      ALL OTHER  ALL OTHER - BLACKMAIL/ EXTORTION      NaN  2630       D3   \n",
       "\n",
       "   beat_number map_reference  incident_number                  time_from  \\\n",
       "0          114          P026         17000426  0001-01-01 03:40:00+00:00   \n",
       "1          118          P004         16009674  0001-01-01 11:53:00+00:00   \n",
       "\n",
       "                     time_to    ...     phxstatus record     offensecategory  \\\n",
       "0  0001-01-01 04:47:00+00:00    ...           NaN   3011  All Other Offenses   \n",
       "1  0001-01-01 15:15:00+00:00    ...        Active   3019  All Other Offenses   \n",
       "\n",
       "  violentproperty    timeframe  domestic                    location  \\\n",
       "0       All Other  \"Last Year\"         N  35.788671414; -78.79625675   \n",
       "1       All Other  \"Last Year\"         N  35.741041415; -78.75461019   \n",
       "\n",
       "                   period                 radio     street  \n",
       "0  \"Everything;Last Year\"  Everything,Last Year    KING ST  \n",
       "1  \"Everything;Last Year\"  Everything,Last Year  RIBBON LN  \n",
       "\n",
       "[2 rows x 31 columns]"
      ]
     },
     "execution_count": 5,
     "metadata": {},
     "output_type": "execute_result"
    }
   ],
   "source": [
    "cary.head(2)"
   ]
  },
  {
   "cell_type": "code",
   "execution_count": 6,
   "metadata": {},
   "outputs": [
    {
     "data": {
      "text/plain": [
       "ALL OTHER              2451\n",
       "LARCENY                1379\n",
       "BURGLARY                235\n",
       "AGGRAVATED ASSAULT      164\n",
       "MOTOR VEHICLE THEFT      64\n",
       "ROBBERY                  57\n",
       "ARSON                    13\n",
       "MURDER                    1\n",
       "Name: crime_category, dtype: int64"
      ]
     },
     "execution_count": 6,
     "metadata": {},
     "output_type": "execute_result"
    }
   ],
   "source": [
    "cary['crime_category'].value_counts()"
   ]
  },
  {
   "cell_type": "code",
   "execution_count": 7,
   "metadata": {},
   "outputs": [
    {
     "data": {
      "text/html": [
       "<div>\n",
       "<style scoped>\n",
       "    .dataframe tbody tr th:only-of-type {\n",
       "        vertical-align: middle;\n",
       "    }\n",
       "\n",
       "    .dataframe tbody tr th {\n",
       "        vertical-align: top;\n",
       "    }\n",
       "\n",
       "    .dataframe thead th {\n",
       "        text-align: right;\n",
       "    }\n",
       "</style>\n",
       "<table border=\"1\" class=\"dataframe\">\n",
       "  <thead>\n",
       "    <tr style=\"text-align: right;\">\n",
       "      <th></th>\n",
       "      <th>geo_point_2d</th>\n",
       "      <th>inci_id</th>\n",
       "      <th>date_rept</th>\n",
       "      <th>hour_rept</th>\n",
       "      <th>yearstamp</th>\n",
       "      <th>monthstamp</th>\n",
       "      <th>date_occu</th>\n",
       "      <th>dow1</th>\n",
       "      <th>hour_occu</th>\n",
       "      <th>date_fnd</th>\n",
       "      <th>...</th>\n",
       "      <th>ucr_code</th>\n",
       "      <th>chrgdesc</th>\n",
       "      <th>csstatus</th>\n",
       "      <th>csstatusdt</th>\n",
       "      <th>addtime</th>\n",
       "      <th>reviewdate</th>\n",
       "      <th>ucr_type_o</th>\n",
       "      <th>dist</th>\n",
       "      <th>strdate</th>\n",
       "      <th>big_zone</th>\n",
       "    </tr>\n",
       "  </thead>\n",
       "  <tbody>\n",
       "    <tr>\n",
       "      <th>0</th>\n",
       "      <td>-78.996264</td>\n",
       "      <td>13000190</td>\n",
       "      <td>2013-01-03 00:00:00+00:00</td>\n",
       "      <td>921</td>\n",
       "      <td>2013</td>\n",
       "      <td>1</td>\n",
       "      <td>2013-01-02 00:00:00+00:00</td>\n",
       "      <td>WE</td>\n",
       "      <td>2300</td>\n",
       "      <td>2013-01-03 00:00:00+00:00</td>\n",
       "      <td>...</td>\n",
       "      <td>650</td>\n",
       "      <td>LARCENY - AUTOMOBILE PARTS OR ACCESSORIES</td>\n",
       "      <td>1.0</td>\n",
       "      <td>2013-01-03 00:00:00+00:00</td>\n",
       "      <td>2013-01-03 00:00:00+00:00</td>\n",
       "      <td>2013-01-04 00:00:00+00:00</td>\n",
       "      <td>NaN</td>\n",
       "      <td>3.0</td>\n",
       "      <td>Jan  3 2013</td>\n",
       "      <td>Zone 3</td>\n",
       "    </tr>\n",
       "    <tr>\n",
       "      <th>1</th>\n",
       "      <td>-78.890730</td>\n",
       "      <td>13000148</td>\n",
       "      <td>2013-01-02 00:00:00+00:00</td>\n",
       "      <td>1845</td>\n",
       "      <td>2013</td>\n",
       "      <td>1</td>\n",
       "      <td>2013-01-02 00:00:00+00:00</td>\n",
       "      <td>WE</td>\n",
       "      <td>1830</td>\n",
       "      <td>2013-01-02 00:00:00+00:00</td>\n",
       "      <td>...</td>\n",
       "      <td>1400</td>\n",
       "      <td>VANDALISM TO AUTO (NOT ACCIDENTAL)</td>\n",
       "      <td>1.0</td>\n",
       "      <td>2013-01-02 00:00:00+00:00</td>\n",
       "      <td>2013-01-02 00:00:00+00:00</td>\n",
       "      <td>2013-01-15 00:00:00+00:00</td>\n",
       "      <td>NaN</td>\n",
       "      <td>4.0</td>\n",
       "      <td>Jan  2 2013</td>\n",
       "      <td>Zone 4</td>\n",
       "    </tr>\n",
       "  </tbody>\n",
       "</table>\n",
       "<p>2 rows × 23 columns</p>\n",
       "</div>"
      ],
      "text/plain": [
       "   geo_point_2d   inci_id                  date_rept  hour_rept  yearstamp  \\\n",
       "0    -78.996264  13000190  2013-01-03 00:00:00+00:00        921       2013   \n",
       "1    -78.890730  13000148  2013-01-02 00:00:00+00:00       1845       2013   \n",
       "\n",
       "   monthstamp                  date_occu dow1  hour_occu  \\\n",
       "0           1  2013-01-02 00:00:00+00:00   WE       2300   \n",
       "1           1  2013-01-02 00:00:00+00:00   WE       1830   \n",
       "\n",
       "                    date_fnd    ...     ucr_code  \\\n",
       "0  2013-01-03 00:00:00+00:00    ...          650   \n",
       "1  2013-01-02 00:00:00+00:00    ...         1400   \n",
       "\n",
       "                                    chrgdesc csstatus  \\\n",
       "0  LARCENY - AUTOMOBILE PARTS OR ACCESSORIES      1.0   \n",
       "1         VANDALISM TO AUTO (NOT ACCIDENTAL)      1.0   \n",
       "\n",
       "                  csstatusdt                    addtime  \\\n",
       "0  2013-01-03 00:00:00+00:00  2013-01-03 00:00:00+00:00   \n",
       "1  2013-01-02 00:00:00+00:00  2013-01-02 00:00:00+00:00   \n",
       "\n",
       "                  reviewdate ucr_type_o dist      strdate  big_zone  \n",
       "0  2013-01-04 00:00:00+00:00        NaN  3.0  Jan  3 2013    Zone 3  \n",
       "1  2013-01-15 00:00:00+00:00        NaN  4.0  Jan  2 2013    Zone 4  \n",
       "\n",
       "[2 rows x 23 columns]"
      ]
     },
     "execution_count": 7,
     "metadata": {},
     "output_type": "execute_result"
    }
   ],
   "source": [
    "durham.head(2)"
   ]
  },
  {
   "cell_type": "code",
   "execution_count": 8,
   "metadata": {},
   "outputs": [
    {
     "data": {
      "text/plain": [
       "LARCENY            19312\n",
       "BREAK IN           13158\n",
       "BREAK IN VEHICL     8450\n",
       "DOMESTIC VIOLEN     7913\n",
       "FRAUD               6909\n",
       "Name: reportedas, dtype: int64"
      ]
     },
     "execution_count": 8,
     "metadata": {},
     "output_type": "execute_result"
    }
   ],
   "source": [
    "durham['reportedas'].value_counts().head()"
   ]
  },
  {
   "cell_type": "code",
   "execution_count": 9,
   "metadata": {},
   "outputs": [
    {
     "data": {
      "text/html": [
       "<div>\n",
       "<style scoped>\n",
       "    .dataframe tbody tr th:only-of-type {\n",
       "        vertical-align: middle;\n",
       "    }\n",
       "\n",
       "    .dataframe tbody tr th {\n",
       "        vertical-align: top;\n",
       "    }\n",
       "\n",
       "    .dataframe thead th {\n",
       "        text-align: right;\n",
       "    }\n",
       "</style>\n",
       "<table border=\"1\" class=\"dataframe\">\n",
       "  <thead>\n",
       "    <tr style=\"text-align: right;\">\n",
       "      <th></th>\n",
       "      <th>OBJECTID</th>\n",
       "      <th>GlobalID</th>\n",
       "      <th>case_number</th>\n",
       "      <th>crime_category</th>\n",
       "      <th>crime_code</th>\n",
       "      <th>crime_description</th>\n",
       "      <th>crime_type</th>\n",
       "      <th>reported_block_address</th>\n",
       "      <th>city_of_incident</th>\n",
       "      <th>city</th>\n",
       "      <th>...</th>\n",
       "      <th>reported_date</th>\n",
       "      <th>reported_year</th>\n",
       "      <th>reported_month</th>\n",
       "      <th>reported_day</th>\n",
       "      <th>reported_hour</th>\n",
       "      <th>reported_dayofwk</th>\n",
       "      <th>latitude</th>\n",
       "      <th>longitude</th>\n",
       "      <th>agency</th>\n",
       "      <th>updated_date</th>\n",
       "    </tr>\n",
       "  </thead>\n",
       "  <tbody>\n",
       "    <tr>\n",
       "      <th>0</th>\n",
       "      <td>12001</td>\n",
       "      <td>9cdee08d-11c8-4789-864b-6965a1b2e620</td>\n",
       "      <td>NaN</td>\n",
       "      <td>MISCELLANEOUS</td>\n",
       "      <td>81H</td>\n",
       "      <td>Miscellaneous/Missing Person (18 &amp; over)</td>\n",
       "      <td>NaN</td>\n",
       "      <td>NaN</td>\n",
       "      <td>NaN</td>\n",
       "      <td>RALEIGH</td>\n",
       "      <td>...</td>\n",
       "      <td>2017-01-15T03:28:00.000Z</td>\n",
       "      <td>2017</td>\n",
       "      <td>1</td>\n",
       "      <td>14</td>\n",
       "      <td>22</td>\n",
       "      <td>Saturday</td>\n",
       "      <td>NaN</td>\n",
       "      <td>NaN</td>\n",
       "      <td>RPD</td>\n",
       "      <td>2017-01-19T20:11:28.000Z</td>\n",
       "    </tr>\n",
       "    <tr>\n",
       "      <th>1</th>\n",
       "      <td>12002</td>\n",
       "      <td>6f6731f4-dd64-44c7-895c-555de2703c8a</td>\n",
       "      <td>NaN</td>\n",
       "      <td>MISCELLANEOUS</td>\n",
       "      <td>81A</td>\n",
       "      <td>Miscellaneous/All Other Non-Offenses</td>\n",
       "      <td>NaN</td>\n",
       "      <td>NaN</td>\n",
       "      <td>NaN</td>\n",
       "      <td>RALEIGH</td>\n",
       "      <td>...</td>\n",
       "      <td>2017-07-29T12:35:00.000Z</td>\n",
       "      <td>2017</td>\n",
       "      <td>7</td>\n",
       "      <td>29</td>\n",
       "      <td>8</td>\n",
       "      <td>Saturday</td>\n",
       "      <td>NaN</td>\n",
       "      <td>NaN</td>\n",
       "      <td>RPD</td>\n",
       "      <td>2017-08-01T14:06:50.000Z</td>\n",
       "    </tr>\n",
       "  </tbody>\n",
       "</table>\n",
       "<p>2 rows × 21 columns</p>\n",
       "</div>"
      ],
      "text/plain": [
       "   OBJECTID                              GlobalID case_number crime_category  \\\n",
       "0     12001  9cdee08d-11c8-4789-864b-6965a1b2e620         NaN  MISCELLANEOUS   \n",
       "1     12002  6f6731f4-dd64-44c7-895c-555de2703c8a         NaN  MISCELLANEOUS   \n",
       "\n",
       "  crime_code                         crime_description crime_type  \\\n",
       "0        81H  Miscellaneous/Missing Person (18 & over)        NaN   \n",
       "1        81A      Miscellaneous/All Other Non-Offenses        NaN   \n",
       "\n",
       "  reported_block_address city_of_incident     city            ...             \\\n",
       "0                    NaN              NaN  RALEIGH            ...              \n",
       "1                    NaN              NaN  RALEIGH            ...              \n",
       "\n",
       "              reported_date reported_year  reported_month  reported_day  \\\n",
       "0  2017-01-15T03:28:00.000Z          2017               1            14   \n",
       "1  2017-07-29T12:35:00.000Z          2017               7            29   \n",
       "\n",
       "   reported_hour  reported_dayofwk latitude  longitude  agency  \\\n",
       "0             22          Saturday      NaN        NaN     RPD   \n",
       "1              8          Saturday      NaN        NaN     RPD   \n",
       "\n",
       "               updated_date  \n",
       "0  2017-01-19T20:11:28.000Z  \n",
       "1  2017-08-01T14:06:50.000Z  \n",
       "\n",
       "[2 rows x 21 columns]"
      ]
     },
     "execution_count": 9,
     "metadata": {},
     "output_type": "execute_result"
    }
   ],
   "source": [
    "raleigh.head(2)"
   ]
  },
  {
   "cell_type": "code",
   "execution_count": 10,
   "metadata": {},
   "outputs": [
    {
     "data": {
      "text/plain": [
       "MISCELLANEOUS    52188\n",
       "ASSAULT          28513\n",
       "LARCENY          24730\n",
       "DRUGS            18155\n",
       "VANDALISM        15562\n",
       "Name: crime_category, dtype: int64"
      ]
     },
     "execution_count": 10,
     "metadata": {},
     "output_type": "execute_result"
    }
   ],
   "source": [
    "raleigh['crime_category'].value_counts().head()"
   ]
  },
  {
   "cell_type": "markdown",
   "metadata": {},
   "source": [
    "## Subsetting the columns\n",
    "\n",
    "* Crime type\n",
    "* Date\n",
    "* Time\n",
    "* Day of week\n",
    "* City"
   ]
  },
  {
   "cell_type": "markdown",
   "metadata": {},
   "source": [
    "## Durham"
   ]
  },
  {
   "cell_type": "code",
   "execution_count": 11,
   "metadata": {},
   "outputs": [
    {
     "data": {
      "text/html": [
       "<div>\n",
       "<style scoped>\n",
       "    .dataframe tbody tr th:only-of-type {\n",
       "        vertical-align: middle;\n",
       "    }\n",
       "\n",
       "    .dataframe tbody tr th {\n",
       "        vertical-align: top;\n",
       "    }\n",
       "\n",
       "    .dataframe thead th {\n",
       "        text-align: right;\n",
       "    }\n",
       "</style>\n",
       "<table border=\"1\" class=\"dataframe\">\n",
       "  <thead>\n",
       "    <tr style=\"text-align: right;\">\n",
       "      <th></th>\n",
       "      <th>crime_type</th>\n",
       "      <th>date</th>\n",
       "      <th>hour</th>\n",
       "      <th>day_of_week</th>\n",
       "      <th>city</th>\n",
       "    </tr>\n",
       "  </thead>\n",
       "  <tbody>\n",
       "    <tr>\n",
       "      <th>0</th>\n",
       "      <td>BREAK IN</td>\n",
       "      <td>2013-01-02 00:00:00+00:00</td>\n",
       "      <td>2300</td>\n",
       "      <td>WE</td>\n",
       "      <td>Durham</td>\n",
       "    </tr>\n",
       "    <tr>\n",
       "      <th>1</th>\n",
       "      <td>DAMAGE TO PROPE</td>\n",
       "      <td>2013-01-02 00:00:00+00:00</td>\n",
       "      <td>1830</td>\n",
       "      <td>WE</td>\n",
       "      <td>Durham</td>\n",
       "    </tr>\n",
       "    <tr>\n",
       "      <th>2</th>\n",
       "      <td>BREAK IN</td>\n",
       "      <td>2012-12-24 00:00:00+00:00</td>\n",
       "      <td>1200</td>\n",
       "      <td>MO</td>\n",
       "      <td>Durham</td>\n",
       "    </tr>\n",
       "    <tr>\n",
       "      <th>3</th>\n",
       "      <td>BREAK IN IN PRO</td>\n",
       "      <td>2013-01-01 00:00:00+00:00</td>\n",
       "      <td>1858</td>\n",
       "      <td>TU</td>\n",
       "      <td>Durham</td>\n",
       "    </tr>\n",
       "    <tr>\n",
       "      <th>4</th>\n",
       "      <td>VEHICLE STOP</td>\n",
       "      <td>2013-01-02 00:00:00+00:00</td>\n",
       "      <td>2129</td>\n",
       "      <td>WE</td>\n",
       "      <td>Durham</td>\n",
       "    </tr>\n",
       "  </tbody>\n",
       "</table>\n",
       "</div>"
      ],
      "text/plain": [
       "        crime_type                       date  hour day_of_week    city\n",
       "0         BREAK IN  2013-01-02 00:00:00+00:00  2300          WE  Durham\n",
       "1  DAMAGE TO PROPE  2013-01-02 00:00:00+00:00  1830          WE  Durham\n",
       "2         BREAK IN  2012-12-24 00:00:00+00:00  1200          MO  Durham\n",
       "3  BREAK IN IN PRO  2013-01-01 00:00:00+00:00  1858          TU  Durham\n",
       "4     VEHICLE STOP  2013-01-02 00:00:00+00:00  2129          WE  Durham"
      ]
     },
     "execution_count": 11,
     "metadata": {},
     "output_type": "execute_result"
    }
   ],
   "source": [
    "# Selecting required columns\n",
    "durham = durham[['reportedas', 'date_occu', 'hour_occu', 'dow1']]\n",
    "\n",
    "# Adding column \"city\"\n",
    "durham = durham.assign(city = 'Durham')\n",
    "\n",
    "# Renaming columns\n",
    "durham = durham.rename(columns = {\n",
    "    'reportedas' : 'crime_type',\n",
    "    'date_occu'  : 'date',\n",
    "    'hour_occu'  : 'hour',\n",
    "    'dow1'       : 'day_of_week'\n",
    "})\n",
    "\n",
    "durham.head()"
   ]
  },
  {
   "cell_type": "markdown",
   "metadata": {},
   "source": [
    "## Raleigh"
   ]
  },
  {
   "cell_type": "code",
   "execution_count": 12,
   "metadata": {},
   "outputs": [
    {
     "data": {
      "text/html": [
       "<div>\n",
       "<style scoped>\n",
       "    .dataframe tbody tr th:only-of-type {\n",
       "        vertical-align: middle;\n",
       "    }\n",
       "\n",
       "    .dataframe tbody tr th {\n",
       "        vertical-align: top;\n",
       "    }\n",
       "\n",
       "    .dataframe thead th {\n",
       "        text-align: right;\n",
       "    }\n",
       "</style>\n",
       "<table border=\"1\" class=\"dataframe\">\n",
       "  <thead>\n",
       "    <tr style=\"text-align: right;\">\n",
       "      <th></th>\n",
       "      <th>crime_type</th>\n",
       "      <th>date</th>\n",
       "      <th>hour</th>\n",
       "      <th>day_of_week</th>\n",
       "      <th>city</th>\n",
       "    </tr>\n",
       "  </thead>\n",
       "  <tbody>\n",
       "    <tr>\n",
       "      <th>0</th>\n",
       "      <td>MISCELLANEOUS</td>\n",
       "      <td>2017-01-15T03:28:00.000Z</td>\n",
       "      <td>22</td>\n",
       "      <td>Saturday</td>\n",
       "      <td>Raleigh</td>\n",
       "    </tr>\n",
       "    <tr>\n",
       "      <th>1</th>\n",
       "      <td>MISCELLANEOUS</td>\n",
       "      <td>2017-07-29T12:35:00.000Z</td>\n",
       "      <td>8</td>\n",
       "      <td>Saturday</td>\n",
       "      <td>Raleigh</td>\n",
       "    </tr>\n",
       "    <tr>\n",
       "      <th>2</th>\n",
       "      <td>MISCELLANEOUS</td>\n",
       "      <td>2016-03-07T03:52:00.000Z</td>\n",
       "      <td>22</td>\n",
       "      <td>Sunday</td>\n",
       "      <td>Raleigh</td>\n",
       "    </tr>\n",
       "    <tr>\n",
       "      <th>3</th>\n",
       "      <td>MISCELLANEOUS</td>\n",
       "      <td>2015-03-24T04:59:00.000Z</td>\n",
       "      <td>0</td>\n",
       "      <td>Tuesday</td>\n",
       "      <td>Raleigh</td>\n",
       "    </tr>\n",
       "    <tr>\n",
       "      <th>4</th>\n",
       "      <td>MISCELLANEOUS</td>\n",
       "      <td>2015-12-23T00:57:00.000Z</td>\n",
       "      <td>19</td>\n",
       "      <td>Tuesday</td>\n",
       "      <td>Raleigh</td>\n",
       "    </tr>\n",
       "  </tbody>\n",
       "</table>\n",
       "</div>"
      ],
      "text/plain": [
       "      crime_type                      date  hour day_of_week     city\n",
       "0  MISCELLANEOUS  2017-01-15T03:28:00.000Z    22    Saturday  Raleigh\n",
       "1  MISCELLANEOUS  2017-07-29T12:35:00.000Z     8    Saturday  Raleigh\n",
       "2  MISCELLANEOUS  2016-03-07T03:52:00.000Z    22      Sunday  Raleigh\n",
       "3  MISCELLANEOUS  2015-03-24T04:59:00.000Z     0     Tuesday  Raleigh\n",
       "4  MISCELLANEOUS  2015-12-23T00:57:00.000Z    19     Tuesday  Raleigh"
      ]
     },
     "execution_count": 12,
     "metadata": {},
     "output_type": "execute_result"
    }
   ],
   "source": [
    "# Selecting required columns\n",
    "raleigh = raleigh[['crime_category', 'reported_date', 'reported_hour', 'reported_dayofwk']]\n",
    "\n",
    "# Adding column \"city\"\n",
    "raleigh = raleigh.assign(city = 'Raleigh')\n",
    "\n",
    "# Renaming columns\n",
    "raleigh = raleigh.rename(columns = {\n",
    "    'crime_category'   : 'crime_type',\n",
    "    'reported_date'    : 'date',\n",
    "    'reported_hour'    : 'hour',\n",
    "    'reported_dayofwk' : 'day_of_week'\n",
    "})\n",
    "\n",
    "raleigh.head()"
   ]
  },
  {
   "cell_type": "markdown",
   "metadata": {},
   "source": [
    "## Cary"
   ]
  },
  {
   "cell_type": "code",
   "execution_count": 13,
   "metadata": {},
   "outputs": [
    {
     "data": {
      "text/html": [
       "<div>\n",
       "<style scoped>\n",
       "    .dataframe tbody tr th:only-of-type {\n",
       "        vertical-align: middle;\n",
       "    }\n",
       "\n",
       "    .dataframe tbody tr th {\n",
       "        vertical-align: top;\n",
       "    }\n",
       "\n",
       "    .dataframe thead th {\n",
       "        text-align: right;\n",
       "    }\n",
       "</style>\n",
       "<table border=\"1\" class=\"dataframe\">\n",
       "  <thead>\n",
       "    <tr style=\"text-align: right;\">\n",
       "      <th></th>\n",
       "      <th>crime_type</th>\n",
       "      <th>date</th>\n",
       "      <th>hour</th>\n",
       "      <th>day_of_week</th>\n",
       "      <th>city</th>\n",
       "    </tr>\n",
       "  </thead>\n",
       "  <tbody>\n",
       "    <tr>\n",
       "      <th>0</th>\n",
       "      <td>ALL OTHER</td>\n",
       "      <td>2017-01-16</td>\n",
       "      <td>0001-01-01 03:40:00+00:00</td>\n",
       "      <td>MONDAY</td>\n",
       "      <td>Cary</td>\n",
       "    </tr>\n",
       "    <tr>\n",
       "      <th>1</th>\n",
       "      <td>ALL OTHER</td>\n",
       "      <td>2016-11-10</td>\n",
       "      <td>0001-01-01 11:53:00+00:00</td>\n",
       "      <td>THURSDAY</td>\n",
       "      <td>Cary</td>\n",
       "    </tr>\n",
       "    <tr>\n",
       "      <th>2</th>\n",
       "      <td>ALL OTHER</td>\n",
       "      <td>2017-07-21</td>\n",
       "      <td>0001-01-01 23:24:00+00:00</td>\n",
       "      <td>FRIDAY</td>\n",
       "      <td>Cary</td>\n",
       "    </tr>\n",
       "    <tr>\n",
       "      <th>3</th>\n",
       "      <td>ALL OTHER</td>\n",
       "      <td>2017-09-22</td>\n",
       "      <td>0001-01-01 14:45:00+00:00</td>\n",
       "      <td>FRIDAY</td>\n",
       "      <td>Cary</td>\n",
       "    </tr>\n",
       "    <tr>\n",
       "      <th>4</th>\n",
       "      <td>ALL OTHER</td>\n",
       "      <td>2016-11-18</td>\n",
       "      <td>0001-01-01 05:02:00+00:00</td>\n",
       "      <td>FRIDAY</td>\n",
       "      <td>Cary</td>\n",
       "    </tr>\n",
       "  </tbody>\n",
       "</table>\n",
       "</div>"
      ],
      "text/plain": [
       "  crime_type        date                       hour day_of_week  city\n",
       "0  ALL OTHER  2017-01-16  0001-01-01 03:40:00+00:00      MONDAY  Cary\n",
       "1  ALL OTHER  2016-11-10  0001-01-01 11:53:00+00:00    THURSDAY  Cary\n",
       "2  ALL OTHER  2017-07-21  0001-01-01 23:24:00+00:00      FRIDAY  Cary\n",
       "3  ALL OTHER  2017-09-22  0001-01-01 14:45:00+00:00      FRIDAY  Cary\n",
       "4  ALL OTHER  2016-11-18  0001-01-01 05:02:00+00:00      FRIDAY  Cary"
      ]
     },
     "execution_count": 13,
     "metadata": {},
     "output_type": "execute_result"
    }
   ],
   "source": [
    "# Selecting required columns\n",
    "cary = cary[['crime_category', 'date_from', 'time_from', 'crimeday']]\n",
    "\n",
    "# Adding column \"city\"\n",
    "cary = cary.assign(city = 'Cary')\n",
    "\n",
    "# Renaming columns\n",
    "cary = cary.rename(columns = {\n",
    "    'crime_category' : 'crime_type',\n",
    "    'date_from'      : 'date',\n",
    "    'time_from'      : 'hour',\n",
    "    'crimeday'       : 'day_of_week'\n",
    "})\n",
    "\n",
    "cary.head()"
   ]
  },
  {
   "cell_type": "markdown",
   "metadata": {},
   "source": [
    "## Concatenating tables"
   ]
  },
  {
   "cell_type": "code",
   "execution_count": 14,
   "metadata": {},
   "outputs": [
    {
     "data": {
      "text/html": [
       "<div>\n",
       "<style scoped>\n",
       "    .dataframe tbody tr th:only-of-type {\n",
       "        vertical-align: middle;\n",
       "    }\n",
       "\n",
       "    .dataframe tbody tr th {\n",
       "        vertical-align: top;\n",
       "    }\n",
       "\n",
       "    .dataframe thead th {\n",
       "        text-align: right;\n",
       "    }\n",
       "</style>\n",
       "<table border=\"1\" class=\"dataframe\">\n",
       "  <thead>\n",
       "    <tr style=\"text-align: right;\">\n",
       "      <th></th>\n",
       "      <th>crime_type</th>\n",
       "      <th>date</th>\n",
       "      <th>hour</th>\n",
       "      <th>day_of_week</th>\n",
       "      <th>city</th>\n",
       "    </tr>\n",
       "  </thead>\n",
       "  <tbody>\n",
       "    <tr>\n",
       "      <th>16399</th>\n",
       "      <td>SEX OFFENSES</td>\n",
       "      <td>2015-01-17T06:30:00.000Z</td>\n",
       "      <td>1</td>\n",
       "      <td>Saturday</td>\n",
       "      <td>Raleigh</td>\n",
       "    </tr>\n",
       "    <tr>\n",
       "      <th>109570</th>\n",
       "      <td>DOMESTIC VIOLEN</td>\n",
       "      <td>2015-09-07 00:00:00+00:00</td>\n",
       "      <td>513</td>\n",
       "      <td>MO</td>\n",
       "      <td>Durham</td>\n",
       "    </tr>\n",
       "    <tr>\n",
       "      <th>213009</th>\n",
       "      <td>LARCENY FROM MV</td>\n",
       "      <td>2018-08-30T02:45:00.000Z</td>\n",
       "      <td>22</td>\n",
       "      <td>Wednesday</td>\n",
       "      <td>Raleigh</td>\n",
       "    </tr>\n",
       "    <tr>\n",
       "      <th>93373</th>\n",
       "      <td>LARCENY - FROM</td>\n",
       "      <td>2017-04-18 00:00:00+00:00</td>\n",
       "      <td>745</td>\n",
       "      <td>NaN</td>\n",
       "      <td>Durham</td>\n",
       "    </tr>\n",
       "    <tr>\n",
       "      <th>117094</th>\n",
       "      <td>ROBBERY</td>\n",
       "      <td>2017-05-12T18:41:00.000Z</td>\n",
       "      <td>14</td>\n",
       "      <td>Friday</td>\n",
       "      <td>Raleigh</td>\n",
       "    </tr>\n",
       "    <tr>\n",
       "      <th>196464</th>\n",
       "      <td>LARCENY FROM MV</td>\n",
       "      <td>2018-05-21T02:34:00.000Z</td>\n",
       "      <td>22</td>\n",
       "      <td>Sunday</td>\n",
       "      <td>Raleigh</td>\n",
       "    </tr>\n",
       "    <tr>\n",
       "      <th>73133</th>\n",
       "      <td>LARCENY</td>\n",
       "      <td>2017-05-18T18:07:00.000Z</td>\n",
       "      <td>14</td>\n",
       "      <td>Thursday</td>\n",
       "      <td>Raleigh</td>\n",
       "    </tr>\n",
       "    <tr>\n",
       "      <th>35420</th>\n",
       "      <td>MISCELLANEOUS</td>\n",
       "      <td>2015-07-15T22:26:00.000Z</td>\n",
       "      <td>18</td>\n",
       "      <td>Wednesday</td>\n",
       "      <td>Raleigh</td>\n",
       "    </tr>\n",
       "    <tr>\n",
       "      <th>207866</th>\n",
       "      <td>DRUGS</td>\n",
       "      <td>2018-07-04T07:23:00.000Z</td>\n",
       "      <td>3</td>\n",
       "      <td>Wednesday</td>\n",
       "      <td>Raleigh</td>\n",
       "    </tr>\n",
       "    <tr>\n",
       "      <th>87084</th>\n",
       "      <td>VANDALISM</td>\n",
       "      <td>2014-08-16T17:53:00.000Z</td>\n",
       "      <td>13</td>\n",
       "      <td>Saturday</td>\n",
       "      <td>Raleigh</td>\n",
       "    </tr>\n",
       "  </tbody>\n",
       "</table>\n",
       "</div>"
      ],
      "text/plain": [
       "             crime_type                       date hour day_of_week     city\n",
       "16399      SEX OFFENSES   2015-01-17T06:30:00.000Z    1    Saturday  Raleigh\n",
       "109570  DOMESTIC VIOLEN  2015-09-07 00:00:00+00:00  513          MO   Durham\n",
       "213009  LARCENY FROM MV   2018-08-30T02:45:00.000Z   22   Wednesday  Raleigh\n",
       "93373    LARCENY - FROM  2017-04-18 00:00:00+00:00  745         NaN   Durham\n",
       "117094          ROBBERY   2017-05-12T18:41:00.000Z   14      Friday  Raleigh\n",
       "196464  LARCENY FROM MV   2018-05-21T02:34:00.000Z   22      Sunday  Raleigh\n",
       "73133           LARCENY   2017-05-18T18:07:00.000Z   14    Thursday  Raleigh\n",
       "35420     MISCELLANEOUS   2015-07-15T22:26:00.000Z   18   Wednesday  Raleigh\n",
       "207866            DRUGS   2018-07-04T07:23:00.000Z    3   Wednesday  Raleigh\n",
       "87084         VANDALISM   2014-08-16T17:53:00.000Z   13    Saturday  Raleigh"
      ]
     },
     "execution_count": 14,
     "metadata": {},
     "output_type": "execute_result"
    }
   ],
   "source": [
    "crime_data = pd.concat([durham, raleigh, cary])\n",
    "#showing 10 randow rows & if we run again 10 different rows\n",
    "crime_data.sample(10)"
   ]
  },
  {
   "cell_type": "markdown",
   "metadata": {},
   "source": [
    "### Transforming \"date\""
   ]
  },
  {
   "cell_type": "code",
   "execution_count": 15,
   "metadata": {},
   "outputs": [
    {
     "data": {
      "text/html": [
       "<div>\n",
       "<style scoped>\n",
       "    .dataframe tbody tr th:only-of-type {\n",
       "        vertical-align: middle;\n",
       "    }\n",
       "\n",
       "    .dataframe tbody tr th {\n",
       "        vertical-align: top;\n",
       "    }\n",
       "\n",
       "    .dataframe thead th {\n",
       "        text-align: right;\n",
       "    }\n",
       "</style>\n",
       "<table border=\"1\" class=\"dataframe\">\n",
       "  <thead>\n",
       "    <tr style=\"text-align: right;\">\n",
       "      <th></th>\n",
       "      <th>crime_type</th>\n",
       "      <th>date</th>\n",
       "      <th>hour</th>\n",
       "      <th>day_of_week</th>\n",
       "      <th>city</th>\n",
       "    </tr>\n",
       "  </thead>\n",
       "  <tbody>\n",
       "    <tr>\n",
       "      <th>0</th>\n",
       "      <td>BREAK IN</td>\n",
       "      <td>2013-01-02</td>\n",
       "      <td>2300</td>\n",
       "      <td>WE</td>\n",
       "      <td>Durham</td>\n",
       "    </tr>\n",
       "    <tr>\n",
       "      <th>1</th>\n",
       "      <td>DAMAGE TO PROPE</td>\n",
       "      <td>2013-01-02</td>\n",
       "      <td>1830</td>\n",
       "      <td>WE</td>\n",
       "      <td>Durham</td>\n",
       "    </tr>\n",
       "    <tr>\n",
       "      <th>2</th>\n",
       "      <td>BREAK IN</td>\n",
       "      <td>2012-12-24</td>\n",
       "      <td>1200</td>\n",
       "      <td>MO</td>\n",
       "      <td>Durham</td>\n",
       "    </tr>\n",
       "    <tr>\n",
       "      <th>3</th>\n",
       "      <td>BREAK IN IN PRO</td>\n",
       "      <td>2013-01-01</td>\n",
       "      <td>1858</td>\n",
       "      <td>TU</td>\n",
       "      <td>Durham</td>\n",
       "    </tr>\n",
       "    <tr>\n",
       "      <th>4</th>\n",
       "      <td>VEHICLE STOP</td>\n",
       "      <td>2013-01-02</td>\n",
       "      <td>2129</td>\n",
       "      <td>WE</td>\n",
       "      <td>Durham</td>\n",
       "    </tr>\n",
       "  </tbody>\n",
       "</table>\n",
       "</div>"
      ],
      "text/plain": [
       "        crime_type        date  hour day_of_week    city\n",
       "0         BREAK IN  2013-01-02  2300          WE  Durham\n",
       "1  DAMAGE TO PROPE  2013-01-02  1830          WE  Durham\n",
       "2         BREAK IN  2012-12-24  1200          MO  Durham\n",
       "3  BREAK IN IN PRO  2013-01-01  1858          TU  Durham\n",
       "4     VEHICLE STOP  2013-01-02  2129          WE  Durham"
      ]
     },
     "execution_count": 15,
     "metadata": {},
     "output_type": "execute_result"
    }
   ],
   "source": [
    "crime_data.date = crime_data.date.apply(lambda d: d[:10])\n",
    "crime_data.head()"
   ]
  },
  {
   "cell_type": "markdown",
   "metadata": {},
   "source": [
    "### Transforming \"day_of_week\""
   ]
  },
  {
   "cell_type": "code",
   "execution_count": 16,
   "metadata": {},
   "outputs": [
    {
     "data": {
      "text/plain": [
       "Friday       36367\n",
       "Wednesday    34821\n",
       "Thursday     34698\n",
       "Tuesday      34346\n",
       "Monday       34318\n",
       "Saturday     33040\n",
       "Sunday       30474\n",
       "FR           18331\n",
       "WE           17560\n",
       "TH           17465\n",
       "TU           16679\n",
       "MO           16662\n",
       "SA           16305\n",
       "SU           14497\n",
       "FRIDAY         699\n",
       "MONDAY         668\n",
       "WEDNESDAY      656\n",
       "THURSDAY       632\n",
       "TUESDAY        585\n",
       "SATURDAY       569\n",
       "SUNDAY         555\n",
       "Name: day_of_week, dtype: int64"
      ]
     },
     "execution_count": 16,
     "metadata": {},
     "output_type": "execute_result"
    }
   ],
   "source": [
    "crime_data.day_of_week.value_counts()"
   ]
  },
  {
   "cell_type": "code",
   "execution_count": 17,
   "metadata": {},
   "outputs": [
    {
     "data": {
      "text/plain": [
       "friday       55397\n",
       "wednesday    53037\n",
       "thursday     52795\n",
       "monday       51648\n",
       "tuesday      51610\n",
       "saturday     49914\n",
       "sunday       45526\n",
       "Name: day_of_week, dtype: int64"
      ]
     },
     "execution_count": 17,
     "metadata": {},
     "output_type": "execute_result"
    }
   ],
   "source": [
    "crime_data.day_of_week = crime_data.day_of_week.str.lower()\n",
    "\n",
    "crime_data.day_of_week[crime_data.day_of_week == 'su'] = 'sunday'\n",
    "crime_data.day_of_week[crime_data.day_of_week == 'mo'] = 'monday'\n",
    "crime_data.day_of_week[crime_data.day_of_week == 'tu'] = 'tuesday'\n",
    "crime_data.day_of_week[crime_data.day_of_week == 'we'] = 'wednesday'\n",
    "crime_data.day_of_week[crime_data.day_of_week == 'th'] = 'thursday'\n",
    "crime_data.day_of_week[crime_data.day_of_week == 'fr'] = 'friday'\n",
    "crime_data.day_of_week[crime_data.day_of_week == 'sa'] = 'saturday'\n",
    "\n",
    "crime_data.day_of_week.value_counts()"
   ]
  },
  {
   "cell_type": "code",
   "execution_count": 18,
   "metadata": {},
   "outputs": [
    {
     "data": {
      "text/plain": [
       "0    2300\n",
       "1    1830\n",
       "2    1200\n",
       "3    1858\n",
       "4    2129\n",
       "Name: hour, dtype: object"
      ]
     },
     "execution_count": 18,
     "metadata": {},
     "output_type": "execute_result"
    }
   ],
   "source": [
    "crime_data.hour.head()"
   ]
  },
  {
   "cell_type": "code",
   "execution_count": 19,
   "metadata": {},
   "outputs": [
    {
     "data": {
      "text/plain": [
       "4359    0001-01-01 13:30:00+00:00\n",
       "4360    0001-01-01 12:00:00+00:00\n",
       "4361    0001-01-01 22:00:00+00:00\n",
       "4362    0001-01-01 12:00:00+00:00\n",
       "4363    0001-01-01 13:00:00+00:00\n",
       "Name: hour, dtype: object"
      ]
     },
     "execution_count": 19,
     "metadata": {},
     "output_type": "execute_result"
    }
   ],
   "source": [
    "crime_data.hour.tail()"
   ]
  },
  {
   "cell_type": "code",
   "execution_count": 20,
   "metadata": {},
   "outputs": [],
   "source": [
    "#transformed hours to make the same\n",
    "def transform_hour(hour):\n",
    "    if len(str(hour)) < 5:\n",
    "        hour = str(hour)[:4].zfill(4)\n",
    "        return hour[:2] + ':' + hour[-2:] + ':00'\n",
    "    else:\n",
    "        return hour.split()[1][:8]"
   ]
  },
  {
   "cell_type": "code",
   "execution_count": 21,
   "metadata": {},
   "outputs": [
    {
     "data": {
      "text/html": [
       "<div>\n",
       "<style scoped>\n",
       "    .dataframe tbody tr th:only-of-type {\n",
       "        vertical-align: middle;\n",
       "    }\n",
       "\n",
       "    .dataframe tbody tr th {\n",
       "        vertical-align: top;\n",
       "    }\n",
       "\n",
       "    .dataframe thead th {\n",
       "        text-align: right;\n",
       "    }\n",
       "</style>\n",
       "<table border=\"1\" class=\"dataframe\">\n",
       "  <thead>\n",
       "    <tr style=\"text-align: right;\">\n",
       "      <th></th>\n",
       "      <th>crime_type</th>\n",
       "      <th>date</th>\n",
       "      <th>hour</th>\n",
       "      <th>day_of_week</th>\n",
       "      <th>city</th>\n",
       "    </tr>\n",
       "  </thead>\n",
       "  <tbody>\n",
       "    <tr>\n",
       "      <th>0</th>\n",
       "      <td>BREAK IN</td>\n",
       "      <td>2013-01-02</td>\n",
       "      <td>23:00:00</td>\n",
       "      <td>wednesday</td>\n",
       "      <td>Durham</td>\n",
       "    </tr>\n",
       "    <tr>\n",
       "      <th>1</th>\n",
       "      <td>DAMAGE TO PROPE</td>\n",
       "      <td>2013-01-02</td>\n",
       "      <td>18:30:00</td>\n",
       "      <td>wednesday</td>\n",
       "      <td>Durham</td>\n",
       "    </tr>\n",
       "    <tr>\n",
       "      <th>2</th>\n",
       "      <td>BREAK IN</td>\n",
       "      <td>2012-12-24</td>\n",
       "      <td>12:00:00</td>\n",
       "      <td>monday</td>\n",
       "      <td>Durham</td>\n",
       "    </tr>\n",
       "    <tr>\n",
       "      <th>3</th>\n",
       "      <td>BREAK IN IN PRO</td>\n",
       "      <td>2013-01-01</td>\n",
       "      <td>18:58:00</td>\n",
       "      <td>tuesday</td>\n",
       "      <td>Durham</td>\n",
       "    </tr>\n",
       "    <tr>\n",
       "      <th>4</th>\n",
       "      <td>VEHICLE STOP</td>\n",
       "      <td>2013-01-02</td>\n",
       "      <td>21:29:00</td>\n",
       "      <td>wednesday</td>\n",
       "      <td>Durham</td>\n",
       "    </tr>\n",
       "  </tbody>\n",
       "</table>\n",
       "</div>"
      ],
      "text/plain": [
       "        crime_type        date      hour day_of_week    city\n",
       "0         BREAK IN  2013-01-02  23:00:00   wednesday  Durham\n",
       "1  DAMAGE TO PROPE  2013-01-02  18:30:00   wednesday  Durham\n",
       "2         BREAK IN  2012-12-24  12:00:00      monday  Durham\n",
       "3  BREAK IN IN PRO  2013-01-01  18:58:00     tuesday  Durham\n",
       "4     VEHICLE STOP  2013-01-02  21:29:00   wednesday  Durham"
      ]
     },
     "execution_count": 21,
     "metadata": {},
     "output_type": "execute_result"
    }
   ],
   "source": [
    "crime_data.hour = crime_data.hour.apply(transform_hour)\n",
    "crime_data.head()"
   ]
  },
  {
   "cell_type": "code",
   "execution_count": 22,
   "metadata": {},
   "outputs": [
    {
     "data": {
      "text/plain": [
       "191"
      ]
     },
     "execution_count": 22,
     "metadata": {},
     "output_type": "execute_result"
    }
   ],
   "source": [
    "crime_data.crime_type.nunique()"
   ]
  },
  {
   "cell_type": "code",
   "execution_count": 23,
   "metadata": {},
   "outputs": [
    {
     "data": {
      "text/plain": [
       "MISCELLANEOUS           52188\n",
       "LARCENY                 45421\n",
       "ASSAULT                 30376\n",
       "DRUGS                   21627\n",
       "FRAUD                   21484\n",
       "VANDALISM               16446\n",
       "LARCENY FROM MV         15137\n",
       "BREAK IN                13158\n",
       "ALL OTHER OFFENSES      11304\n",
       "DRUG VIOLATIONS          9585\n",
       "BREAK IN VEHICL          8450\n",
       "BURGLARY/RESIDENTIAL     8301\n",
       "TRAFFIC                  8053\n",
       "DOMESTIC VIOLEN          7913\n",
       "DAMAGE TO PROPE          6346\n",
       "PRIVATE TOW              6187\n",
       "WEAPONS VIOLATION        5412\n",
       "HUMANE                   5373\n",
       "MV THEFT                 4216\n",
       "SHOPLIFTER               4006\n",
       "LOST OR FOUND P          3110\n",
       "ROBBERY                  3080\n",
       "SEX OFFENSES             2922\n",
       "VEHICLE STOP             2582\n",
       "ALL OTHER                2451\n",
       "DISORDERLY CONDUCT       2265\n",
       "LARCENY OF VEHI          2165\n",
       "BURGLARY/COMMERCIAL      2125\n",
       "ARMED ROBBERY            2091\n",
       "DISTURBANCE              1652\n",
       "                        ...  \n",
       "OFFICER NEEDS A             5\n",
       "BRIBERY                     4\n",
       "STABBING AT HOS             4\n",
       "VEHICLE ALARM               3\n",
       "CRASH NOTIFICAT             3\n",
       "PROWLER                     3\n",
       "UNKNOWN FIRE                3\n",
       "CALLS FOR SERVI             3\n",
       "OVERDOSE                    2\n",
       "TEST                        2\n",
       "LARCENY - SHOPL             2\n",
       "IMPAIRED DRIVIN             2\n",
       "DROWNING                    2\n",
       "FRAUD - CONFIDE             2\n",
       "VEHICLE FIRE SU             2\n",
       "EXPLOSION                   2\n",
       "HANG UP WIRELES             2\n",
       "ADBUCTION OR KI             1\n",
       "DIRECT TRAFFIC              1\n",
       "TRESPASS OR UMW             1\n",
       "FRAUD - WORTHLE             1\n",
       "PAST ABDUCTION              1\n",
       "AIRCRAFT EMERGE             1\n",
       "BOMB FOUND                  1\n",
       "SIMPLE ASSAULT              1\n",
       "PROTEST                     1\n",
       "50 CRASH NOTIFI             1\n",
       "BANK ALARM                  1\n",
       "SCHOOL CROSSING             1\n",
       "TRAIN CRASH                 1\n",
       "Name: crime_type, Length: 191, dtype: int64"
      ]
     },
     "execution_count": 23,
     "metadata": {},
     "output_type": "execute_result"
    }
   ],
   "source": [
    "crime_data.crime_type.value_counts()"
   ]
  },
  {
   "cell_type": "markdown",
   "metadata": {},
   "source": [
    "## Exporting to SQL"
   ]
  },
  {
   "cell_type": "code",
   "execution_count": 24,
   "metadata": {},
   "outputs": [],
   "source": [
    "from sqlalchemy import create_engine\n",
    "engine = create_engine('sqlite://', echo = False)"
   ]
  },
  {
   "cell_type": "code",
   "execution_count": 25,
   "metadata": {},
   "outputs": [],
   "source": [
    "# Saving only first 1000 rows to keep it small\n",
    "crime_data.head(1000).to_sql('crime_data', con = engine, if_exists='replace')"
   ]
  },
  {
   "cell_type": "code",
   "execution_count": 26,
   "metadata": {},
   "outputs": [
    {
     "data": {
      "text/plain": [
       "[(0, 'BREAK IN', '2013-01-02', '23:00:00', 'wednesday', 'Durham'),\n",
       " (1, 'DAMAGE TO PROPE', '2013-01-02', '18:30:00', 'wednesday', 'Durham'),\n",
       " (2, 'BREAK IN', '2012-12-24', '12:00:00', 'monday', 'Durham'),\n",
       " (3, 'BREAK IN IN PRO', '2013-01-01', '18:58:00', 'tuesday', 'Durham'),\n",
       " (4, 'VEHICLE STOP', '2013-01-02', '21:29:00', 'wednesday', 'Durham')]"
      ]
     },
     "execution_count": 26,
     "metadata": {},
     "output_type": "execute_result"
    }
   ],
   "source": [
    "#SQL Query in database we just created\n",
    "engine.execute('SELECT * FROM crime_data WHERE city = \"Durham\" LIMIT 5').fetchall()"
   ]
  }
 ],
 "metadata": {
  "kernelspec": {
   "display_name": "Python 3",
   "language": "python",
   "name": "python3"
  },
  "language_info": {
   "codemirror_mode": {
    "name": "ipython",
    "version": 3
   },
   "file_extension": ".py",
   "mimetype": "text/x-python",
   "name": "python",
   "nbconvert_exporter": "python",
   "pygments_lexer": "ipython3",
   "version": "3.7.0"
  }
 },
 "nbformat": 4,
 "nbformat_minor": 2
}
